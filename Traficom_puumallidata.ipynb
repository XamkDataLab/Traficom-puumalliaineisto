{
 "cells": [
  {
   "cell_type": "markdown",
   "metadata": {},
   "source": [
    "# Traficom-aineisto scikit-learn decision tree -harjoitukseen\n",
    "\n",
    "Liikenne- ja viestintäviraston julkaisema avoin data-aineisto sisältää kaikkien liikennekäytössä olevien ajoneuvojen rekisteröinti-, hyväksyntä- ja teknisiä tietoja Traficomin ylläpitämästä liikenneasioiden rekisteristä. Tämä koodi tekee 50000 henkilöauton satunnaisotannan yli kahden miljoonan auton joukosta säilyttäen seuraavat muuttujat:\n",
    "\n",
    "- `korityyppi` on ajoneuvon korityyppi (rajattu neljään yleisimpään: farmari, viistoperä, monikäyttöajoneuvo ja sedan)\n",
    "\n",
    "\n",
    "- `ajonKokPituus` on ajoneuvon kokonaispituus (mm)\n",
    "\n",
    "\n",
    "- `ajonKorkeus` on ajoneuvon korkeus (mm)\n",
    "\n",
    "\n",
    "- `omamassa` on ajoneuvon omamassa (kg)\n",
    "\n",
    "\n",
    "- `iskutilavuus` on ajoenuvon moottorin iskutilavuus ($cm^3$)\n",
    "\n",
    "\n",
    "- `suurinNettoteho` on ajoneuvon suurin nettoteho (kW)\n",
    "\n",
    "\n",
    "Liikenne- ja viestintävirasto ajoneuvojen avoin data 5.14: https://www.traficom.fi/fi/ajankohtaista/avoin-data?toggle=Ajoneuvojen%20avoin%20data%205.14\n",
    "\n",
    "Aineistokuvaus ja muuttujaluettelo: https://www.traficom.fi/sites/default/files/media/file/Ajoneuvotiedot_avoin_data_luokitukset_28.01.2021.xlsx"
   ]
  },
  {
   "cell_type": "code",
   "execution_count": null,
   "metadata": {},
   "outputs": [],
   "source": [
    "import pandas as pd\n",
    "\n",
    "#luetaan pakattu csv-tiedosto trafin sivulta ja valitaan tiedostosta halutut muuttujat (iso tiedosto, kestää hetken)\n",
    "\n",
    "df = pd.read_csv(\"http://trafiopendata.97.fi/opendata/TieliikenneAvoinData_5_14.zip\", sep = ';', \n",
    "                 encoding = \"ISO-8859-1\", usecols = ['suurinNettoteho','ajonKorkeus', 'ajonKokPituus', \n",
    "                 'iskutilavuus', 'omamassa', 'korityyppi', 'ajoneuvoluokka'])\n",
    "\n",
    "#aineiston rajaaminen pelkkiin henkilöautoihin ja niiden neljään yleisimpään korityyppin. \n",
    "\n",
    "df = df.loc[df['ajoneuvoluokka'].isin(['M1'])]\n",
    "\n",
    "df = df.loc[df['korityyppi'].isin(['AC', 'AB', 'AF', 'AA'])]\n",
    "\n",
    "#nimetään korityypit muuttujaluettelosta löytyvillä selitteillä\n",
    "\n",
    "df[\"korityyppi\"].replace({\"AC\": \"Farmari\", \"AB\": \"Viistoperä\",\"AF\": \"Monikäyttöajoneuvo\", \"AA\": \"Sedan\"}, \n",
    "                              inplace=True)\n",
    "\n",
    "#pudotetaan tyhjiä arvoja sisältävät rivit pois ja poistetaan suodatukseen käytetty ajoneuvoluokka\n",
    "\n",
    "df = df.dropna()\n",
    "\n",
    "del df['ajoneuvoluokka']\n",
    "\n",
    "#valitaan satunnaiset 50000 riviä\n",
    "\n",
    "df = df.sample(50000)\n",
    "\n",
    "df = df.reset_index(drop=True)\n",
    "\n",
    "df.head(10)"
   ]
  }
 ],
 "metadata": {
  "kernelspec": {
   "display_name": "Python 3",
   "language": "python",
   "name": "python3"
  },
  "language_info": {
   "codemirror_mode": {
    "name": "ipython",
    "version": 3
   },
   "file_extension": ".py",
   "mimetype": "text/x-python",
   "name": "python",
   "nbconvert_exporter": "python",
   "pygments_lexer": "ipython3",
   "version": "3.8.5"
  }
 },
 "nbformat": 4,
 "nbformat_minor": 4
}
